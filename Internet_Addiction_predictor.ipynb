{
 "cells": [
  {
   "cell_type": "code",
   "execution_count": 1,
   "id": "c9ce20d8",
   "metadata": {},
   "outputs": [],
   "source": [
    "import pandas as pd\n",
    "import numpy as np\n",
    "import matplotlib.pyplot as plt\n",
    "import random"
   ]
  },
  {
   "cell_type": "code",
   "execution_count": 2,
   "id": "fd325aa3",
   "metadata": {},
   "outputs": [
    {
     "name": "stdout",
     "output_type": "stream",
     "text": [
      "(30, 664)\n"
     ]
    }
   ],
   "source": [
    "df = pd.read_csv(\"preprocessed_eeg_features.csv\")\n",
    "print(df.shape)"
   ]
  },
  {
   "cell_type": "code",
   "execution_count": 3,
   "id": "e6cccdff",
   "metadata": {},
   "outputs": [],
   "source": [
    "df['internet_addiction_level'] = df['internet_addiction_level'].replace({'Moderate level': 'Severe Level'})"
   ]
  },
  {
   "cell_type": "code",
   "execution_count": 4,
   "id": "67aa40df",
   "metadata": {},
   "outputs": [],
   "source": [
    "from sklearn.preprocessing import LabelEncoder\n",
    "\n",
    "le_gender = LabelEncoder()\n",
    "le_internet_addiction = LabelEncoder()\n",
    "\n",
    "df['gender_encoded'] = le_gender.fit_transform(df['gender'])\n",
    "df['internet_addiction_level_encoded'] = le_internet_addiction.fit_transform(df['internet_addiction_level'])\n"
   ]
  },
  {
   "cell_type": "code",
   "execution_count": 5,
   "id": "dc2cd3f4",
   "metadata": {},
   "outputs": [],
   "source": [
    "X = df.drop(columns = ['gender', 'internet_addiction_level', 'personality', 'internet_addiction_level_encoded'])\n",
    "y = df['internet_addiction_level_encoded']"
   ]
  },
  {
   "cell_type": "code",
   "execution_count": 6,
   "id": "64e6aef0",
   "metadata": {},
   "outputs": [
    {
     "name": "stdout",
     "output_type": "stream",
     "text": [
      "Training size: 24\n",
      "Test size: 6\n"
     ]
    }
   ],
   "source": [
    "from sklearn.model_selection import train_test_split\n",
    "\n",
    "X_train, X_test, y_train, y_test = train_test_split(X, y, test_size=0.2, stratify=y, random_state=42)\n",
    "\n",
    "print(\"Training size:\", len(X_train))\n",
    "print(\"Test size:\", len(X_test))"
   ]
  },
  {
   "cell_type": "code",
   "execution_count": 7,
   "id": "04b94242",
   "metadata": {},
   "outputs": [],
   "source": [
    "from sklearn.preprocessing import StandardScaler\n",
    "\n",
    "sc = StandardScaler()\n",
    "X_train_scaled = sc.fit_transform(X_train)\n",
    "X_test_scaled = sc.transform(X_test)"
   ]
  },
  {
   "cell_type": "code",
   "execution_count": 8,
   "id": "309a9e1a",
   "metadata": {},
   "outputs": [],
   "source": [
    "from sklearn.decomposition import PCA\n",
    "\n",
    "pca = PCA(n_components=0.95)\n",
    "X_train_pca = pca.fit_transform(X_train_scaled)\n",
    "X_test_pca = pca.transform(X_test_scaled)"
   ]
  },
  {
   "cell_type": "code",
   "execution_count": 9,
   "id": "b06b9174",
   "metadata": {},
   "outputs": [
    {
     "name": "stderr",
     "output_type": "stream",
     "text": [
      "c:\\Users\\Hrishikesh\\anaconda3\\envs\\myenv\\lib\\site-packages\\sklearn\\base.py:474: FutureWarning: `BaseEstimator._validate_data` is deprecated in 1.6 and will be removed in 1.7. Use `sklearn.utils.validation.validate_data` instead. This function becomes public and is part of the scikit-learn developer API.\n",
      "  warnings.warn(\n"
     ]
    },
    {
     "name": "stdout",
     "output_type": "stream",
     "text": [
      "After SMOTE - Training size: 42\n",
      "Class distribution:\n",
      " internet_addiction_level_encoded\n",
      "0    14\n",
      "2    14\n",
      "1    14\n",
      "Name: count, dtype: int64\n"
     ]
    }
   ],
   "source": [
    "from imblearn.over_sampling import SMOTE\n",
    "\n",
    "smote = SMOTE(k_neighbors = 2, random_state=42)\n",
    "X_train_resampled, y_train_resampled = smote.fit_resample(X_train_pca, y_train)\n",
    "\n",
    "print(\"After SMOTE - Training size:\", len(X_train_resampled))\n",
    "print(\"Class distribution:\\n\", pd.Series(y_train_resampled).value_counts())"
   ]
  },
  {
   "cell_type": "code",
   "execution_count": 10,
   "id": "48af6e48",
   "metadata": {},
   "outputs": [],
   "source": [
    "def augment_features_and_labels(X, y, n_augmentations=5, noise_level=0.01, scale_range=(0.9, 1.1), max_shift=2):\n",
    "    augmented_X = []\n",
    "    augmented_y = []\n",
    "\n",
    "    for _ in range(n_augmentations):\n",
    "        X_aug = X.copy()\n",
    "\n",
    "        operation = np.random.choice(['noise', 'scale', 'rolling'])\n",
    "\n",
    "        if operation == 'noise':\n",
    "            noise = np.random.normal(0, noise_level, X_aug.shape)\n",
    "            X_aug += noise\n",
    "\n",
    "        elif operation == 'scale':\n",
    "            scale_factors = np.random.uniform(scale_range[0], scale_range[1], X_aug.shape[1])\n",
    "            X_aug *= scale_factors\n",
    "\n",
    "        elif operation == 'rolling':\n",
    "            for col_idx in range(X.shape[1]):\n",
    "                shift = np.random.randint(-max_shift, max_shift + 1)\n",
    "                X_aug[:, col_idx] = np.roll(X[:, col_idx], shift)\n",
    "\n",
    "        augmented_X.append(X_aug)\n",
    "        augmented_y.append(y)\n",
    "\n",
    "    X_augmented = np.vstack(augmented_X)\n",
    "    y_augmented = np.concatenate(augmented_y)\n",
    "\n",
    "    return X_augmented, y_augmented"
   ]
  },
  {
   "cell_type": "code",
   "execution_count": 11,
   "id": "a0a0712f",
   "metadata": {},
   "outputs": [
    {
     "name": "stdout",
     "output_type": "stream",
     "text": [
      "Resampled training size: (42, 19)\n",
      "Augmented training size: (210, 19)\n"
     ]
    }
   ],
   "source": [
    "X_train_aug, y_train_aug = augment_features_and_labels(X_train_resampled, y_train_resampled, n_augmentations=5)\n",
    "\n",
    "print(\"Resampled training size:\", X_train_resampled.shape)\n",
    "print(\"Augmented training size:\", X_train_aug.shape)"
   ]
  },
  {
   "cell_type": "markdown",
   "id": "87bdb609",
   "metadata": {},
   "source": [
    "## ML Models"
   ]
  },
  {
   "cell_type": "code",
   "execution_count": 12,
   "id": "c5df1464",
   "metadata": {},
   "outputs": [],
   "source": [
    "from sklearn.model_selection import StratifiedKFold, GridSearchCV\n",
    "from sklearn.metrics import accuracy_score, f1_score, classification_report, confusion_matrix, ConfusionMatrixDisplay\n",
    "from sklearn.svm import SVC\n",
    "from sklearn.ensemble import RandomForestClassifier\n",
    "from xgboost import XGBClassifier\n",
    "import seaborn as sns"
   ]
  },
  {
   "cell_type": "code",
   "execution_count": 13,
   "id": "ed4a3370",
   "metadata": {},
   "outputs": [],
   "source": [
    "def evaluate_model_with_cv(model, param_grid, X_real, y_real, X_aug, y_aug, model_name=\"Model\"):\n",
    "    # Step 1: Grid Search on Augmented Data\n",
    "    grid = GridSearchCV(model, param_grid, cv=StratifiedKFold(n_splits=5), scoring='f1_macro', n_jobs=-1)\n",
    "    grid.fit(X_aug, y_aug)\n",
    "\n",
    "    best_model = grid.best_estimator_\n",
    "    print(f\"\\n---- {model_name} Best Params ----\")\n",
    "    print(grid.best_params_)\n",
    "\n",
    "    # Step 2: Cross-Validation on Real (non-augmented) data\n",
    "    skf = StratifiedKFold(n_splits=5, shuffle=True, random_state=42)\n",
    "    all_preds = []\n",
    "    all_true = []\n",
    "\n",
    "    y_real = np.array(y_real)\n",
    "\n",
    "    for train_idx, val_idx in skf.split(X_real, y_real):\n",
    "        X_tr, X_val = X_real[train_idx], X_real[val_idx]\n",
    "        y_tr, y_val = y_real[train_idx], y_real[val_idx]\n",
    "\n",
    "        best_model.fit(X_tr, y_tr)\n",
    "        preds = best_model.predict(X_val)\n",
    "\n",
    "        all_preds.extend(preds)\n",
    "        all_true.extend(y_val)\n",
    "\n",
    "    print(f\"\\n---- {model_name} Cross-Validation Report ----\")\n",
    "    print(classification_report(all_true, all_preds))\n",
    "\n",
    "    cm = confusion_matrix(all_true, all_preds)\n",
    "    disp = ConfusionMatrixDisplay(confusion_matrix=cm)\n",
    "    disp.plot(cmap=plt.cm.Blues)\n",
    "    plt.title(f\"{model_name} - Cross-Validation Confusion Matrix\")\n",
    "    plt.show()\n",
    "\n",
    "    return best_model"
   ]
  },
  {
   "cell_type": "code",
   "execution_count": 14,
   "id": "15c13219",
   "metadata": {},
   "outputs": [],
   "source": [
    "def evaluate_model(y_true, y_pred, model_name):\n",
    "    print(classification_report(y_true, y_pred))\n",
    "\n",
    "    cm = confusion_matrix(y_true, y_pred)\n",
    "    disp = ConfusionMatrixDisplay(confusion_matrix=cm)\n",
    "    disp.plot(cmap=plt.cm.Blues)\n",
    "    plt.title(f\"{model_name} - Test Set Confusion Matrix\")\n",
    "    plt.show()"
   ]
  },
  {
   "cell_type": "markdown",
   "id": "ae93075a",
   "metadata": {},
   "source": [
    "### SVM"
   ]
  },
  {
   "cell_type": "code",
   "execution_count": 15,
   "id": "874fe613",
   "metadata": {},
   "outputs": [
    {
     "name": "stdout",
     "output_type": "stream",
     "text": [
      "\n",
      "---- SVM Best Params ----\n",
      "{'C': 10, 'kernel': 'rbf'}\n",
      "\n",
      "---- SVM Cross-Validation Report ----\n",
      "              precision    recall  f1-score   support\n",
      "\n",
      "           0       0.78      0.50      0.61        14\n",
      "           1       0.93      1.00      0.97        14\n",
      "           2       0.67      0.86      0.75        14\n",
      "\n",
      "    accuracy                           0.79        42\n",
      "   macro avg       0.79      0.79      0.77        42\n",
      "weighted avg       0.79      0.79      0.77        42\n",
      "\n"
     ]
    },
    {
     "data": {
      "image/png": "[encoded data removed]",
      "text/plain": [
       "<Figure size 640x480 with 2 Axes>"
      ]
     },
     "metadata": {},
     "output_type": "display_data"
    }
   ],
   "source": [
    "from sklearn.svm import SVC\n",
    "\n",
    "svm_param_grid = {\n",
    "    'C': [0.1, 1, 10],\n",
    "    'kernel': ['linear', 'rbf']\n",
    "}\n",
    "\n",
    "best_svm = evaluate_model_with_cv(\n",
    "    model=SVC(),\n",
    "    param_grid=svm_param_grid,\n",
    "    X_real=X_train_resampled,      # real (non-augmented) training set\n",
    "    y_real=y_train_resampled,\n",
    "    X_aug=X_train_aug,   # augmented training set\n",
    "    y_aug=y_train_aug,\n",
    "    model_name=\"SVM\"\n",
    ")\n"
   ]
  },
  {
   "cell_type": "markdown",
   "id": "2503984f",
   "metadata": {},
   "source": [
    "### Random Forest Classification"
   ]
  },
  {
   "cell_type": "code",
   "execution_count": 16,
   "id": "c38f29ab",
   "metadata": {},
   "outputs": [
    {
     "name": "stdout",
     "output_type": "stream",
     "text": [
      "\n",
      "---- Random Forest Best Params ----\n",
      "{'max_depth': 5, 'n_estimators': 100}\n",
      "\n",
      "---- Random Forest Cross-Validation Report ----\n",
      "              precision    recall  f1-score   support\n",
      "\n",
      "           0       0.67      0.57      0.62        14\n",
      "           1       0.88      1.00      0.93        14\n",
      "           2       0.71      0.71      0.71        14\n",
      "\n",
      "    accuracy                           0.76        42\n",
      "   macro avg       0.75      0.76      0.75        42\n",
      "weighted avg       0.75      0.76      0.75        42\n",
      "\n"
     ]
    },
    {
     "data": {
      "image/png": "[encoded data removed]",
      "text/plain": [
       "<Figure size 640x480 with 2 Axes>"
      ]
     },
     "metadata": {},
     "output_type": "display_data"
    }
   ],
   "source": [
    "rf_param_grid = {\n",
    "    'n_estimators': [50, 100],\n",
    "    'max_depth': [5, 10, None]\n",
    "}\n",
    "\n",
    "best_rf = evaluate_model_with_cv(\n",
    "    model=RandomForestClassifier(random_state=42),\n",
    "    param_grid=rf_param_grid,\n",
    "    X_real=X_train_resampled,      # real (resampled, non-augmented)\n",
    "    y_real=y_train_resampled,\n",
    "    X_aug=X_train_aug,             # full augmented set\n",
    "    y_aug=y_train_aug,\n",
    "    model_name=\"Random Forest\"\n",
    ")"
   ]
  },
  {
   "cell_type": "markdown",
   "id": "e1fb792f",
   "metadata": {},
   "source": [
    "### XGBoost"
   ]
  },
  {
   "cell_type": "code",
   "execution_count": 17,
   "id": "4ef9a7fa",
   "metadata": {},
   "outputs": [
    {
     "name": "stdout",
     "output_type": "stream",
     "text": [
      "\n",
      "---- XGBoost Best Params ----\n",
      "{'learning_rate': 0.1, 'max_depth': 3, 'n_estimators': 50}\n",
      "\n",
      "---- XGBoost Cross-Validation Report ----\n",
      "              precision    recall  f1-score   support\n",
      "\n",
      "           0       0.64      0.50      0.56        14\n",
      "           1       0.87      0.93      0.90        14\n",
      "           2       0.62      0.71      0.67        14\n",
      "\n",
      "    accuracy                           0.71        42\n",
      "   macro avg       0.71      0.71      0.71        42\n",
      "weighted avg       0.71      0.71      0.71        42\n",
      "\n"
     ]
    },
    {
     "data": {
      "image/png": "[encoded data removed]",
      "text/plain": [
       "<Figure size 640x480 with 2 Axes>"
      ]
     },
     "metadata": {},
     "output_type": "display_data"
    }
   ],
   "source": [
    "xgb_param_grid = {\n",
    "    'n_estimators': [50, 100],\n",
    "    'max_depth': [3, 5],\n",
    "    'learning_rate': [0.05, 0.1]\n",
    "}\n",
    "\n",
    "best_xgb = evaluate_model_with_cv(\n",
    "    model=XGBClassifier(eval_metric='mlogloss', random_state=42),\n",
    "    param_grid=xgb_param_grid,\n",
    "    X_real=X_train_resampled,\n",
    "    y_real=y_train_resampled,\n",
    "    X_aug=X_train_aug,\n",
    "    y_aug=y_train_aug,\n",
    "    model_name=\"XGBoost\"\n",
    ")"
   ]
  },
  {
   "cell_type": "code",
   "execution_count": 18,
   "id": "97a68f59",
   "metadata": {},
   "outputs": [
    {
     "data": {
      "text/plain": [
       "['best_model_svm.pkl']"
      ]
     },
     "execution_count": 18,
     "metadata": {},
     "output_type": "execute_result"
    }
   ],
   "source": [
    "import joblib\n",
    "joblib.dump(best_svm, f'best_model_svm.pkl')\n"
   ]
  },
  {
   "cell_type": "code",
   "execution_count": null,
   "id": "367b253e",
   "metadata": {},
   "outputs": [],
   "source": []
  }
 ],
 "metadata": {
  "kernelspec": {
   "display_name": "myenv",
   "language": "python",
   "name": "python3"
  },
  "language_info": {
   "codemirror_mode": {
    "name": "ipython",
    "version": 3
   },
   "file_extension": ".py",
   "mimetype": "text/x-python",
   "name": "python",
   "nbconvert_exporter": "python",
   "pygments_lexer": "ipython3",
   "version": "3.9.21"
  }
 },
 "nbformat": 4,
 "nbformat_minor": 5
}
