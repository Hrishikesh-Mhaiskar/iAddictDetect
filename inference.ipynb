{
 "cells": [
  {
   "cell_type": "code",
   "execution_count": null,
   "id": "75dd33f7",
   "metadata": {},
   "outputs": [],
   "source": [
    "import numpy as np\n",
    "import pandas as pd\n",
    "import matplotlib.pyplot as plt\n",
    "import os"
   ]
  },
  {
   "cell_type": "code",
   "execution_count": null,
   "id": "51bf34fd",
   "metadata": {},
   "outputs": [],
   "source": [
    "import nbimporter\n",
    "from preprocessing import spectral_entropy, extract_features_task"
   ]
  },
  {
   "cell_type": "code",
   "execution_count": null,
   "id": "72795524",
   "metadata": {},
   "outputs": [],
   "source": [
    "def preprocess_extract_data(path, subject, result_file):\n",
    "    data = []\n",
    "    tasks = sorted([f for f in os.listdir(path) if f.endswith('.csv')])\n",
    "\n",
    "    result_df = pd.read_csv(result_file)\n",
    "    subject_row = result_df[result_df['Subject'] == subject]\n",
    "\n",
    "    addiction_level = subject_row['Internet Addiction Result'].values[0]\n",
    "    personality = subject_row['Personality Result'].values[0]\n",
    "    gender = subject_row['Gender'].values[0]\n",
    "    memory_words_correct = subject_row['Memory Words Correct'].values[0]\n",
    "\n",
    "    subject_features = []\n",
    "\n",
    "    for task in tasks:\n",
    "        task_file_path = os.path.join(path, task)\n",
    "\n",
    "        try:\n",
    "            column_names = ['attention', 'meditation', 'LowAlpha', 'HighAlpha', 'LowBeta', 'HighBeta', 'Delta', 'Theta', 'LowGamma', 'MiddleGamma']\n",
    "            df = pd.read_csv(task_file_path, header=None, names=column_names)\n",
    "            task_features = extract_features_task(df)\n",
    "            subject_features.extend(task_features)\n",
    "        except Exception as e:\n",
    "            print(f\"Skipping {task_file_path}: {e}\")\n",
    "            subject_features.extend([0] * 68)\n",
    "\n",
    "    subject_features.extend([gender, memory_words_correct, addiction_level, personality])\n",
    "    data.append(subject_features)\n",
    "\n",
    "    df = pd.DataFrame(data)\n",
    "\n",
    "    am_features = ['attention_mean', 'attention_std', 'meditation_mean', 'meditation_std']\n",
    "    bands = ['LowAlpha', 'HighAlpha', 'LowBeta', 'HighBeta', 'Delta', 'Theta', 'LowGamma', 'MiddleGamma']\n",
    "    eeg_stats = ['mean', 'std', 'kurtosis', 'skewness', 'range', 'bandpower_sum', 'spectral_entropy']\n",
    "    eeg_features = [f\"{band}_{stat}\" for band in bands for stat in eeg_stats]\n",
    "    features_per_task = am_features + eeg_features\n",
    "\n",
    "    all_feature_names = []\n",
    "\n",
    "    for task_idx in range(1, 12):\n",
    "        all_feature_names.extend([f\"task{task_idx}_{feat}\" for feat in features_per_task])\n",
    "\n",
    "    all_feature_names += ['gender', 'memory_words_correct', 'internet_addiction_level', 'personality']\n",
    "\n",
    "    df.columns = all_feature_names\n",
    "\n",
    "    return df\n"
   ]
  },
  {
   "cell_type": "code",
   "execution_count": null,
   "id": "f8c4935e",
   "metadata": {},
   "outputs": [],
   "source": [
    "def predict_Internet_addiction(df, le_gender, le_internet_addiction, pca, sc, models, num_classes = 3):\n",
    "    df['gender_encoded'] = le_gender.transform(df['gender'])\n",
    "    df['internet_addiction_level_encoded'] = le_internet_addiction.transform(df['internet_addiction_level'].replace({'Moderate level': 'Severe Level'}))\n",
    "\n",
    "    X = df.drop(columns = ['gender', 'internet_addiction_level', 'personality', 'internet_addiction_level_encoded'])\n",
    "    y = df['internet_addiction_level_encoded']\n",
    "\n",
    "    X_scaled = sc.transform(X)\n",
    "    X_pca = pca.transform(X_scaled)\n",
    "\n",
    "    probs = [0] * num_classes\n",
    "    for model in models:\n",
    "        probs += model.predict_proba(X_pca)\n",
    "\n",
    "    return np.argmax(probs / float(len(models)), axis = 1)\n",
    "    "
   ]
  },
  {
   "cell_type": "code",
   "execution_count": null,
   "id": "5f469bf6",
   "metadata": {},
   "outputs": [],
   "source": [
    "import joblib\n",
    "\n",
    "le_gender = joblib.load('inference/le_gender.pkl')\n",
    "le_internet_addiction = joblib.load('inference/le_internet_addiction.pkl')\n",
    "pca = joblib.load('inference/pca.pkl')\n",
    "sc = joblib.load('inference/sc.pkl')\n",
    "\n",
    "svm = joblib.load('best_model_svm.pkl')\n",
    "rf = joblib.load('best_rf.pkl')\n",
    "xgb = joblib.load('best_xgb.pkl')"
   ]
  },
  {
   "cell_type": "markdown",
   "id": "7a03490e",
   "metadata": {},
   "source": [
    "## Test Subjects (excluded from training)\n",
    "\n",
    "- **S1  : Normal Level**\n",
    "- **S9  : Mid Level**\n",
    "- **S13 : Mid Level**\n",
    "- **S15 : Severe Level**\n",
    "- **S21 : Normal Level**\n",
    "- **S26 : Severe Level**\n"
   ]
  },
  {
   "cell_type": "code",
   "execution_count": null,
   "id": "772095e3",
   "metadata": {},
   "outputs": [],
   "source": [
    "subject = 'S21'"
   ]
  },
  {
   "cell_type": "code",
   "execution_count": null,
   "id": "16411177",
   "metadata": {},
   "outputs": [],
   "source": [
    "data_path = 'Electroencephalogram (EEG) dataset with internet addiction and healthy teenagers under rest and executive function task/Data/' + subject\n",
    "result_file_path = 'Electroencephalogram (EEG) dataset with internet addiction and healthy teenagers under rest and executive function task/Data/ResultCombine.csv'"
   ]
  },
  {
   "cell_type": "code",
   "execution_count": null,
   "id": "4ea987b1",
   "metadata": {},
   "outputs": [],
   "source": [
    "df = preprocess_extract_data(data_path, subject, result_file_path)\n",
    "y_pred = predict_Internet_addiction(df, le_gender, le_internet_addiction, pca, sc, [svm, xgb, rf])"
   ]
  },
  {
   "cell_type": "code",
   "execution_count": null,
   "id": "a0038cab",
   "metadata": {},
   "outputs": [],
   "source": [
    "print(\"Y Predicted: \", le_internet_addiction.inverse_transform(y_pred[0].reshape(-1))[0])"
   ]
  }
 ],
 "metadata": {
  "kernelspec": {
   "display_name": "myenv",
   "language": "python",
   "name": "python3"
  },
  "language_info": {
   "codemirror_mode": {
    "name": "ipython",
    "version": 3
   },
   "file_extension": ".py",
   "mimetype": "text/x-python",
   "name": "python",
   "nbconvert_exporter": "python",
   "pygments_lexer": "ipython3",
   "version": "3.9.21"
  }
 },
 "nbformat": 4,
 "nbformat_minor": 5
}
